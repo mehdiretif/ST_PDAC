{
 "cells": [
  {
   "cell_type": "code",
   "execution_count": 2,
   "metadata": {
    "tags": [
     "parameters"
    ]
   },
   "outputs": [],
   "source": [
    "#Input\n",
    "\n",
    "filtered_count_data = '../nf_output/data/Visium_FFPE_V44L01-325_A_filtered.csv'\n",
    "spatial_data = '../nf_output/data/Visium_FFPE_V44L01-325_A_annotation.csv'\n",
    "sample_name = 'Visium_FFPE_V44L01-325_A'\n",
    "r_path = '/Library/Frameworks/R.framework/Resources'\n",
    "min_clust = 11\n",
    "max_clust = 15\n",
    "method = 'mclust'\n",
    "refine = 'false'"
   ]
  },
  {
   "cell_type": "code",
   "execution_count": 3,
   "metadata": {},
   "outputs": [],
   "source": [
    "import torch\n",
    "import re\n",
    "import os\n",
    "import sys\n",
    "sys.path.append('GraphST_clustering')\n",
    "from graphST_clustering_functions import *\n",
    "from GraphST.GraphST import GraphST"
   ]
  },
  {
   "cell_type": "code",
   "execution_count": 4,
   "metadata": {},
   "outputs": [],
   "source": [
    "#Output\n",
    "sample = os.path.basename(filtered_count_data)\n",
    "parts = sample.split('_')\n",
    "last_char = parts[-1].split('.')[0]\n",
    "if last_char.isdigit() == True: #simulation\n",
    "    seed = last_char\n",
    "    graphST_output = f\"{sample_name}_sim_{seed}_clustered.h5ad\"\n",
    "else:\n",
    "    graphST_output = f\"{sample_name}_ref_clustered.h5ad\""
   ]
  },
  {
   "cell_type": "code",
   "execution_count": 5,
   "metadata": {},
   "outputs": [],
   "source": [
    "# Run device, by default, the package is implemented on 'cpu'. We recommend using GPU.\n",
    "if torch.backends.mps.is_available():\n",
    "    device = torch.device('mps')\n",
    "elif torch.cuda.is_available():\n",
    "    device = torch.device('cuda:1')\n",
    "else:\n",
    "    device = torch.device('cpu')\n",
    "\n",
    "# the location of R, which is necessary for mclust algorithm. Please replace the path below with local R installation path\n",
    "os.environ[\"R_HOME\"] = r_path"
   ]
  },
  {
   "cell_type": "code",
   "execution_count": 6,
   "metadata": {},
   "outputs": [],
   "source": [
    "data, col_label = data_preprocessing(filtered_count_data, spatial_data)"
   ]
  },
  {
   "cell_type": "code",
   "execution_count": 7,
   "metadata": {},
   "outputs": [
    {
     "name": "stdout",
     "output_type": "stream",
     "text": [
      "Begin to train ST data...\n"
     ]
    },
    {
     "name": "stderr",
     "output_type": "stream",
     "text": [
      "100%|██████████| 600/600 [09:03<00:00,  1.10it/s]\n"
     ]
    },
    {
     "name": "stdout",
     "output_type": "stream",
     "text": [
      "Optimization finished for ST data!\n"
     ]
    }
   ],
   "source": [
    "model = GraphST.GraphST(data, device=device, random_seed = 1)\n",
    "# train model\n",
    "data = model.train()"
   ]
  },
  {
   "cell_type": "code",
   "execution_count": 8,
   "metadata": {},
   "outputs": [
    {
     "name": "stderr",
     "output_type": "stream",
     "text": [
      "R[write to console]:                    __           __ \n",
      "   ____ ___  _____/ /_  _______/ /_\n",
      "  / __ `__ \\/ ___/ / / / / ___/ __/\n",
      " / / / / / / /__/ / /_/ (__  ) /_  \n",
      "/_/ /_/ /_/\\___/_/\\__,_/____/\\__/   version 6.1.1\n",
      "Type 'citation(\"mclust\")' for citing this R package in publications.\n",
      "\n"
     ]
    },
    {
     "name": "stdout",
     "output_type": "stream",
     "text": [
      "fitting ...\n",
      "  |======================================================================| 100%\n",
      "fitting ...\n",
      "  |======================================================================| 100%\n",
      "fitting ...\n",
      "  |======================================================================| 100%\n",
      "fitting ...\n",
      "  |======================================================================| 100%\n",
      "fitting ...\n",
      "  |======================================================================| 100%\n"
     ]
    }
   ],
   "source": [
    "# clustering \n",
    "method_list = method.replace(' ','').split(',')\n",
    "data = graphST_methods_loop(data, method_list, list(range(min_clust,max_clust+1)), start=0.01, end=2, refinement=refine)"
   ]
  },
  {
   "cell_type": "code",
   "execution_count": 9,
   "metadata": {},
   "outputs": [],
   "source": [
    "data.write_h5ad(graphST_output)"
   ]
  }
 ],
 "metadata": {
  "kernelspec": {
   "display_name": "envrt_clustering",
   "language": "python",
   "name": "python3"
  },
  "language_info": {
   "codemirror_mode": {
    "name": "ipython",
    "version": 3
   },
   "file_extension": ".py",
   "mimetype": "text/x-python",
   "name": "python",
   "nbconvert_exporter": "python",
   "pygments_lexer": "ipython3",
   "version": "3.9.6"
  }
 },
 "nbformat": 4,
 "nbformat_minor": 2
}
